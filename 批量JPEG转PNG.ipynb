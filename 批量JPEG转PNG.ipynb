{
 "cells": [
  {
   "cell_type": "markdown",
   "metadata": {},
   "source": [
    "# python实现批量图片格式转换"
   ]
  },
  {
   "cell_type": "code",
   "execution_count": 18,
   "metadata": {},
   "outputs": [],
   "source": [
    "#!/usr/bin/python\n",
    "# -*- coding: utf-8 -*-\n",
    "\n",
    "import os\n",
    "from PIL import Image\n",
    "import shutil\n",
    "import sys\n",
    "\n",
    "# Define the input and output image\n",
    "data_dir       = 'd:\\PNG_dd'\n",
    "output_dirHR     = 'd:\\PNG_Output_diryyy'\n",
    "\n",
    "if not os.path.exists(output_dirHR):   #判断文件和文件夹是否存在的方法\n",
    "    os.mkdir(output_dirHR)             #新建文件夹\n",
    "\n",
    "def image2png(dataset_dir, type):\n",
    "    files = []\n",
    "    image_list = os.listdir(dataset_dir)                         #返回指定的文件夹包含的文件或文件夹的名字的列表\n",
    "    files = [os.path.join(dataset_dir, _) for _ in image_list]   #把文件路径和文件名结合起来\n",
    "    #print(files)  #可以打印出来看效果    \n",
    "    for index, jpg in enumerate(files):   #enumerate() 函数用于将一个可遍历的数据对象(如列表、元组或字符串)组合为一个索引序列，同时列出数据和数据下标，一般用在 for 循环当中。\n",
    "        if index > 100000:\n",
    "            break\n",
    "        try:\n",
    "            sys.stdout.write('\\r>>Converting image %d/100000 ' % (index))\n",
    "            sys.stdout.flush()\n",
    "            im = Image.open(jpg)\n",
    "            png = os.path.splitext(jpg)[0] + \".\" + type\n",
    "            im.save(png)\n",
    "            # 将已经转换的图片移动到指定位置\n",
    "            shutil.move(png, output_dirHR)\n",
    "        except IOError as e:\n",
    "            print('could not read:', jpg)\n",
    "            print('error:', e)\n",
    "            print('skip it\\n')\n",
    "\n",
    "    sys.stdout.write('Convert Over!\\n')\n",
    "    sys.stdout.flush()   #刷新输出\n"
   ]
  },
  {
   "cell_type": "code",
   "execution_count": 19,
   "metadata": {},
   "outputs": [
    {
     "name": "stdout",
     "output_type": "stream",
     "text": [
      ">>Converting image 29/100000 Convert Over!\n"
     ]
    }
   ],
   "source": [
    "if __name__ == \"__main__\":\n",
    "    # current_dir = os.getcwd()  # os.getcwd() 方法用于返回当前工作目录。\n",
    "    # print(current_dir)         # 显示当前路径\n",
    "    data_dir = 'd:\\PNG_dd'\n",
    "    image2png(data_dir, 'png')   # 调用函数实现批量图片格式转换"
   ]
  },
  {
   "cell_type": "markdown",
   "metadata": {},
   "source": [
    "python3中，os.path模块下常用的用法总结\n",
    "https://www.cnblogs.com/renpingsheng/p/7065565.html\n",
    "https://blog.csdn.net/li1615882553/article/details/78759371\n",
    "\n",
    "os即operating system（操作系统），Python 的 os 模块封装了常见的文件和目录操作。\n",
    "os.path模块主要用于文件的属性获取,exists是“存在”的意思，所以顾名思义，os.path.exists()就是判断括号里的文件是否存在的意思，括号内的可以是文件路径。\n"
   ]
  }
 ],
 "metadata": {
  "kernelspec": {
   "display_name": "Python 3",
   "language": "python",
   "name": "python3"
  },
  "language_info": {
   "codemirror_mode": {
    "name": "ipython",
    "version": 3
   },
   "file_extension": ".py",
   "mimetype": "text/x-python",
   "name": "python",
   "nbconvert_exporter": "python",
   "pygments_lexer": "ipython3",
   "version": "3.6.6"
  }
 },
 "nbformat": 4,
 "nbformat_minor": 2
}
