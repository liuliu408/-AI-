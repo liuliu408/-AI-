{
 "cells": [
  {
   "cell_type": "markdown",
   "metadata": {},
   "source": [
    "# Python 生成 GIF 动图"
   ]
  },
  {
   "cell_type": "code",
   "execution_count": 3,
   "metadata": {},
   "outputs": [],
   "source": [
    "import imageio\n",
    "import os\n",
    "import os.path\n",
    "\n",
    "def create_gif(gif_name, path, duration = 0.3):   \n",
    "    '''\n",
    "    生成gif文件，原始图片仅支持png格式\n",
    "    gif_name ： 字符串，所生成的 gif 文件名，带 .gif 后缀\n",
    "    path :      需要合成为 gif 的图片所在路径\n",
    "    duration :  gif 图像时间间隔\n",
    "    '''\n",
    "\n",
    "    frames = []\n",
    "    pngFiles = os.listdir(path)\n",
    "    image_list = [os.path.join(path, f) for f in pngFiles]\n",
    "    for image_name in image_list:\n",
    "        # 读取 png 图像文件\n",
    "        frames.append(imageio.imread(image_name))\n",
    "    # 保存为 gif \n",
    "    imageio.mimsave(gif_name, frames, 'GIF', duration = duration)\n",
    "\n",
    "    return\n",
    "\n",
    "def main():    \n",
    "    path = 'D:\\PNG_Output_diryyy'         #指定PNG文件所在路径\n",
    "    \n",
    "    save_dir= 'D:'  #指定保存路径\n",
    "    save_gif_path = os.path.join(save_dir,\"yyy.gif\")\n",
    "    #save_gif_path = 'D:\\created_gif.gif'                        #指定保存路径和文件名  \n",
    "    \n",
    "    duration = 0.2  #设置间隔时间为0.2s\n",
    "    create_gif(save_gif_path, path, duration)\n",
    "\n",
    "if __name__ == \"__main__\":\n",
    "    main()\n",
    " "
   ]
  },
  {
   "cell_type": "code",
   "execution_count": null,
   "metadata": {},
   "outputs": [],
   "source": []
  }
 ],
 "metadata": {
  "kernelspec": {
   "display_name": "Python 3",
   "language": "python",
   "name": "python3"
  },
  "language_info": {
   "codemirror_mode": {
    "name": "ipython",
    "version": 3
   },
   "file_extension": ".py",
   "mimetype": "text/x-python",
   "name": "python",
   "nbconvert_exporter": "python",
   "pygments_lexer": "ipython3",
   "version": "3.6.6"
  }
 },
 "nbformat": 4,
 "nbformat_minor": 2
}
